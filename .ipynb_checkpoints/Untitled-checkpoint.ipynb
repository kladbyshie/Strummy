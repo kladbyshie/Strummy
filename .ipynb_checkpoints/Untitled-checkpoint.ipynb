{
 "cells": [
  {
   "cell_type": "code",
   "execution_count": 1,
   "metadata": {},
   "outputs": [],
   "source": [
    "import bs4\n",
    "import requests"
   ]
  },
  {
   "cell_type": "code",
   "execution_count": 8,
   "metadata": {
    "scrolled": true
   },
   "outputs": [],
   "source": [
    "class Song():\n",
    "    def __init__(self, title, url, wholeitem):\n",
    "        self.title = title\n",
    "        self.url = url\n",
    "        self.wholeitem = wholeitem\n",
    "        self.lyrics = lyrics\n",
    "\n",
    "def genius(*args):\n",
    "    query = '%20'.join(args)\n",
    "    base_url = 'https://api.genius.com'\n",
    "    headers = {'Authorization': 'Bearer ' + 'To_00Vy-whV08bXPjqKEQrVxHm3b4ThuMSvG-_tPi58DR22oJa4crHKpRjzFE2vi'}\n",
    "    search_url = f'https://api.genius.com/search?q={query}'\n",
    "    response = requests.get(search_url, headers=headers)\n",
    "    response = response.json()\n",
    "    allitems = []\n",
    "    for item in response['response']['hits']:\n",
    "        newsong = Song(item['full_title'], item['url'], item)\n",
    "        allitems.append(newsong)\n",
    "#        allitems.append(item['result'])\n",
    "        \n",
    "    #pulls from the song list    \n",
    "    for item in allitem:\n",
    "        url = item.url\n",
    "        site = requests.get(url)\n",
    "        site = bs4.BeautifulSoup(site.text, features='html.parser')\n",
    "        lyrics = site.find(\"div\", class_=\"lyrics\").get_text()\n",
    "        item.lyrics = lyrics\n",
    "    return(allitems)\n",
    "\n",
    "response = genius('everybody', 'knows','im','a','motherfucking','monster')"
   ]
  },
  {
   "cell_type": "code",
   "execution_count": 28,
   "metadata": {},
   "outputs": [],
   "source": [
    "\n",
    "\n",
    "allitem = []\n",
    "\n",
    "    "
   ]
  },
  {
   "cell_type": "code",
   "execution_count": 29,
   "metadata": {},
   "outputs": [],
   "source": []
  },
  {
   "cell_type": "code",
   "execution_count": 34,
   "metadata": {},
   "outputs": [
    {
     "data": {
      "text/plain": [
       "\"\\n\\n[Intro: Bon Iver]\\nI shoot the lights out\\nHide 'til it's bright out\\nOh just another lonely night\\nAre you willing to sacrifice your life?\\n\\n[Verse 1: Hiatus]\\nGo on and check the title, elimination of rivals\\nLyrics be the fluid pulsating through my vitals\\nHere to bring about Hip-Hop's revival\\nSave an entire culture by becoming homicidal\\nPreparation for eradication of slavery\\nMedal of Honor, commemorating bravery\\nOn the offensive, King James couldn't play me\\nI could snore on a track and still sound so amazing\\nAll the hate from the industry couldn't phase me\\nLong as I got the flavor the heads craving\\nIdle hands do they devil's work, mine are moving daily\\nCut through a beat like butter I make it look Yeezy\\nPleasing to the ear, like everything Obama say\\nShouldn't say that the NSA was at my house today\\nGave them an invitation to come and take my guns away\\nAnd then they seen my arsenal, should've seen them run away\\nGot no ice on my wrist, still nobody cold as this\\nHow is it the words cold, even with the acid spit\\nSelling CDs out the trunk, Hip-Hop police attacking it\\nSaying something dope as this equivalent to trafficking\\nPepsi center flow, see the people packing in\\nRapping is an acid trip, PIR is back again\\nCall us both monsters and get two different visuals\\nI'm looking like Cujo, you resemble Billy Crystal\\n\\n[Verse 2: MC IL]\\nI'm a monster, Frankenstein fears me\\nLyrically there is no one even near me\\nPartners in rhyme, shit, we ought to be a crime\\nKilling time by exerting rhymes on the mic\\nDissing us, shit, yo mama didn't raise you right\\nDidn't she tell you to stay in when the men outside\\nWe own you at yo own game, what you saying\\nCalling us lame, better pipe down we ain't playing\\nLyrical murder, that's a title not an act\\nI keep my rhymes packed and my head on stacks\\nFull of knowledge, keeping them on the edge\\nYo dreams went over Ya head and ova the hedge\\nYou can't wedge yo way on my side by making a pledge\\nWhen you see what's ahead, you better watch yo head\\nWe too stacked and packed, throwing on a thinking cap\\nYou too whack and you slack, faker than heat fans\\nLines too vicious, my name should be viscosity\\nMy rhymes delicious, homie back up off me\\nI be Chasing my mail, destined to fail, but I will prevail\\nNot like Moby Dick the whale cause this ain't no tale\\nThis my life, my pencil my knife, the way I fight\\nI keep my fam tight, rhymes right, trying to live the lime light\\nThis game for the serious, keeping the rhymes furious\\nSo I'm curious, will you be a real dude hearing this\\n\\n[Verse 3: Weirdo]\\nI'm a monster under the bed better hide in the sheets\\nI'm so hot there's flames when I breathe\\nDragon, night and shining armor she trying to slay me\\nShe gave me mad head like she was angry\\nIf you had a dream like Martin Luther\\nThen tear em all apart like Freddy Kruger\\nWeirdos super, everybody's quiet when I speak\\nPIR sends the shivers down your spine like monsters inc\\nYour lady called me and said shes down to fuck\\nToss that ass around then send her back to ya'\\nI don't need to send my team after ya'\\nOne man army I'm at your neck like the Dracula\\nFrankenstein you can't kill me I'm a dead man walking\\nI'm hungry and starving like Godzilla's offspring\\nEverybody has an eye on me like cyclops is watching\\nIll murder you softly then feed the bodies to my doggies\\nFuck the devil I am Illuminati\\nI'm grasping souls like the haunting Jaws dropping\\nI'm just that amazing Thirsty hoes around the world, my cum is what they're craving\\nIll take shots like good aiming\\nMy dogs are werewolves got crisp fangs with rabies\\nI have em shaking like they never seen a monster\\nI ball hard like the varsity squad on space jams roster\\n\\n[Verse 4: Adverse]\\nLyrics hard as shit, bars all legit\\nI got drive, no break no park assist\\nAll my enemies gon’ shake like Parkinson's\\nNo time for hunger games when you’re starving bitch\\nWits like a blade babe I sharpened it\\nI’m a marksmen, you’re just another target hit\\nTell em what it is, don't tell em what it was\\nSave the game in the Knick of time Melo in the clutch\\nYour bitch a pocket full of lust I'm selling it as love\\nI got more bars then a felon or a club\\nI'm too out of my mind, you can't reason with me\\nI light Molotov first then I drink the whiskey\\nI'm buzzing off of that, y'all ain't even tipsy\\nThis is the bout the time motherfuckers sing with me\\nEverybody knows I'm a motherfucking monster\\nY'all claim you are but you're fake as the Loch Ness\\nTalking like you Hard den get popped with a rocket\\nFlawless victories no continues or pauses\\nAllergic to wack rappers and damn I’m getting hives\\nThe truth taking lives because they living lies\\nKill em off, ship em off forget the shipping price\\nMe and dude at the coroner gots business ties\\nScheming like Ross when he’s picking which bitch to molly\\nRiding with a cougar, I think I’m Ricky Bobby\\n\\n\""
      ]
     },
     "execution_count": 34,
     "metadata": {},
     "output_type": "execute_result"
    }
   ],
   "source": [
    "allitem[3].lyrics"
   ]
  },
  {
   "cell_type": "code",
   "execution_count": null,
   "metadata": {},
   "outputs": [],
   "source": []
  }
 ],
 "metadata": {
  "kernelspec": {
   "display_name": "Python 3",
   "language": "python",
   "name": "python3"
  },
  "language_info": {
   "codemirror_mode": {
    "name": "ipython",
    "version": 3
   },
   "file_extension": ".py",
   "mimetype": "text/x-python",
   "name": "python",
   "nbconvert_exporter": "python",
   "pygments_lexer": "ipython3",
   "version": "3.7.4"
  }
 },
 "nbformat": 4,
 "nbformat_minor": 2
}
