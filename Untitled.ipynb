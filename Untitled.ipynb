{
 "cells": [
  {
   "cell_type": "code",
   "execution_count": 1,
   "metadata": {},
   "outputs": [],
   "source": [
    "import bs4\n",
    "import requests"
   ]
  },
  {
   "cell_type": "code",
   "execution_count": 37,
   "metadata": {
    "scrolled": true
   },
   "outputs": [],
   "source": [
    "class Song():\n",
    "    def __init__(self, title, url, wholeitem):\n",
    "        self.title = title\n",
    "        self.url = url\n",
    "        self.wholeitem = wholeitem\n",
    "        self.lyrics = lyrics\n",
    "\n",
    "def genius(*args):\n",
    "    query = '%20'.join(args)\n",
    "    base_url = 'https://api.genius.com'\n",
    "    headers = {'Authorization': 'Bearer ' + 'To_00Vy-whV08bXPjqKEQrVxHm3b4ThuMSvG-_tPi58DR22oJa4crHKpRjzFE2vi'}\n",
    "    search_url = f'https://api.genius.com/search?q={query}'\n",
    "    response = requests.get(search_url, headers=headers)\n",
    "    response = response.json()\n",
    "    allitems = []\n",
    "    #builds the first song object\n",
    "    for item in response['response']['hits']:\n",
    "        new = item['result']\n",
    "        newsong = Song(new['full_title'], new['url'], new)\n",
    "        allitems.append(newsong)\n",
    "    #uses URLs from song to download and append lyrics\n",
    "    for item in allitems:\n",
    "        url = item.url\n",
    "        site = requests.get(url)\n",
    "        site = bs4.BeautifulSoup(site.text, features='html.parser')\n",
    "        lyrics = site.find(\"div\", class_=\"lyrics\").get_text()\n",
    "        item.lyrics = lyrics\n",
    "    return(allitems)\n",
    "\n",
    "response = genius('everybody', 'knows','im','a','motherfucking','monster')"
   ]
  },
  {
   "cell_type": "code",
   "execution_count": 41,
   "metadata": {},
   "outputs": [
    {
     "data": {
      "text/plain": [
       "'Monster by\\xa0Kanye\\xa0West (Ft.\\xa0Bon\\xa0Iver, JAY-Z, Nicki\\xa0Minaj & Rick\\xa0Ross)'"
      ]
     },
     "execution_count": 41,
     "metadata": {},
     "output_type": "execute_result"
    }
   ],
   "source": [
    "response[0].title"
   ]
  },
  {
   "cell_type": "code",
   "execution_count": null,
   "metadata": {},
   "outputs": [],
   "source": [
    "newline['Name'] = f\"{counter}. {newline['Title']} - {newline['Href']}\"\n",
    "                    new = new.append(newline, ignore_index=True)\n",
    "                    counter += 1\n",
    "                string = '\\n'\n",
    "                embed = Embed()\n",
    "                embed.description = string.join(new['Name'])\n",
    "                await ctx.channel.send(embed=embed)"
   ]
  }
 ],
 "metadata": {
  "kernelspec": {
   "display_name": "Python 3",
   "language": "python",
   "name": "python3"
  },
  "language_info": {
   "codemirror_mode": {
    "name": "ipython",
    "version": 3
   },
   "file_extension": ".py",
   "mimetype": "text/x-python",
   "name": "python",
   "nbconvert_exporter": "python",
   "pygments_lexer": "ipython3",
   "version": "3.7.4"
  }
 },
 "nbformat": 4,
 "nbformat_minor": 2
}
